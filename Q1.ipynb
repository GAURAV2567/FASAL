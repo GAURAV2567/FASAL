{
 "cells": [
  {
   "cell_type": "code",
   "execution_count": 1,
   "metadata": {},
   "outputs": [],
   "source": [
    "import pandas as pd\n",
    "from datetime import datetime"
   ]
  },
  {
   "cell_type": "markdown",
   "metadata": {},
   "source": [
    "## Data Manipulation"
   ]
  },
  {
   "cell_type": "code",
   "execution_count": 2,
   "metadata": {},
   "outputs": [],
   "source": [
    "#INPUT DATA\n",
    "customer={\n",
    "\"_id\" : [\"600c1806289947de938c68ea\"],\n",
    "\"name\" : [\"Ram Mohan\"],\n",
    "\"age\" : [32],\n",
    "\"gender\" : [\"male\"],\n",
    "\"dateJoined\": ['2019-09-30T09:18:29.044Z'],\n",
    "\"state\" : [\"MH\"],\n",
    "\"country\": [\"IN\"]\n",
    "}\n",
    "\n",
    "farms={\n",
    "\"_id\" : [\"uTMEtfc77M8eLdX7E\"],\n",
    "\"customer\" : [\"600c1806289947de938c68ea\"],\n",
    "\"name\" : [\"farm_tomato\"],\n",
    "\"crop\" : [\"tomato\"],\n",
    "\"deviceId\": [\"7HGRXY\"],\n",
    "\"lat\" :[20.632189],\n",
    "\"long\": [74.8961]\n",
    "}\n",
    "\n",
    "Device={\n",
    "\"_id\" : [\"uTMEtfc77M8eLdX7E\"],\n",
    "\"deviceId\" : [\"7HGRXY\"],\n",
    "\"TC\" : [24],\n",
    "\"HUM\" : [84],\n",
    "\"datetime\": ['2021-07-30T09:18:29.044Z'],\n",
    "\"LW\" : [0],\n",
    "\"PLV2\": [0]\n",
    "}\n",
    "\n",
    "#Convert Dict to DataFrame\n",
    "customer=pd.DataFrame(customer)\n",
    "farm=pd.DataFrame(farms)\n",
    "device=pd.DataFrame(Device)\n",
    "\n",
    "#Convert datetime to DateTime format\n",
    "device['datetime']=device['datetime'].astype('datetime64')\n",
    "\n",
    "# Hourly data in Device\n",
    "device['hourly']=device['datetime'].apply(lambda x: x.replace(minute=0, second=0,microsecond=0))\n",
    "\n",
    "# Joining Tables\n",
    "df=pd.merge(customer,farm,left_on='_id',right_on='customer')\n",
    "df=pd.merge(df,device,left_on='_id_y',right_on='_id')\n",
    "\n",
    "#Rearrangign Columns\n",
    "df=df[['customer','_id_y','crop','deviceId_y', 'TC', 'HUM', 'LW', 'PLV2','datetime', 'hourly']]\n",
    "df=df.rename(columns={'deviceId_y':'device_id','_id_y':'farm_id','customer':'customer_id'})"
   ]
  },
  {
   "cell_type": "markdown",
   "metadata": {},
   "source": [
    "## Function to get_data"
   ]
  },
  {
   "cell_type": "code",
   "execution_count": 3,
   "metadata": {},
   "outputs": [],
   "source": [
    "#Function (get_data) to extract data for a given crop, input date range and set of sensor values.\n",
    "def get_data(crop,start_date,end_date,sensor_values):\n",
    "    df1=df[df['crop']==crop]\n",
    "    df1=df1[(df1['datetime']>=start_date) & (df1['datetime']<=end_date)]\n",
    "    df1=df1[sensor_values]\n",
    "    return df1\n",
    "\n",
    "#Function (get_data_by_hour) to extract hourly data for a given crop, input date range and set of sensor values.\n",
    "def get_data_by_hour(crop,start_date,end_date,sensor_values):\n",
    "    df1=df[df['crop']==crop]\n",
    "    df1=df1[(df1['datetime']>=start_date) & (df1['datetime']<=end_date)]\n",
    "    df1=df1[sensor_values]\n",
    "    df1['hourly']=df1['datetime'].apply(lambda x: x.replace(minute=0, second=0,microsecond=0))\n",
    "    df1=df1.groupby(['customer_id','farm_id','crop','device_id','hourly']).mean() #add cropname and farmname/id,device_id\n",
    "    return df1\n"
   ]
  },
  {
   "cell_type": "markdown",
   "metadata": {},
   "source": [
    "## OUTPUT"
   ]
  },
  {
   "cell_type": "code",
   "execution_count": 4,
   "metadata": {},
   "outputs": [
    {
     "data": {
      "text/html": [
       "<div>\n",
       "<style scoped>\n",
       "    .dataframe tbody tr th:only-of-type {\n",
       "        vertical-align: middle;\n",
       "    }\n",
       "\n",
       "    .dataframe tbody tr th {\n",
       "        vertical-align: top;\n",
       "    }\n",
       "\n",
       "    .dataframe thead th {\n",
       "        text-align: right;\n",
       "    }\n",
       "</style>\n",
       "<table border=\"1\" class=\"dataframe\">\n",
       "  <thead>\n",
       "    <tr style=\"text-align: right;\">\n",
       "      <th></th>\n",
       "      <th>TC</th>\n",
       "      <th>HUM</th>\n",
       "    </tr>\n",
       "  </thead>\n",
       "  <tbody>\n",
       "    <tr>\n",
       "      <th>0</th>\n",
       "      <td>24</td>\n",
       "      <td>84</td>\n",
       "    </tr>\n",
       "  </tbody>\n",
       "</table>\n",
       "</div>"
      ],
      "text/plain": [
       "   TC  HUM\n",
       "0  24   84"
      ]
     },
     "execution_count": 4,
     "metadata": {},
     "output_type": "execute_result"
    }
   ],
   "source": [
    "#INPUT DATE\n",
    "start = datetime.strptime('Jan 1 2020', '%b %d %Y').replace(minute=0, second=0,microsecond=0)\n",
    "end = datetime.strptime('Dec 1 2021', '%b %d %Y').replace(minute=0, second=0,microsecond=0)\n",
    "\n",
    "get_data('tomato',start,end,['TC','HUM'])"
   ]
  },
  {
   "cell_type": "code",
   "execution_count": null,
   "metadata": {},
   "outputs": [],
   "source": []
  }
 ],
 "metadata": {
  "kernelspec": {
   "display_name": "Python 3",
   "language": "python",
   "name": "python3"
  },
  "language_info": {
   "codemirror_mode": {
    "name": "ipython",
    "version": 3
   },
   "file_extension": ".py",
   "mimetype": "text/x-python",
   "name": "python",
   "nbconvert_exporter": "python",
   "pygments_lexer": "ipython3",
   "version": "3.8.3"
  }
 },
 "nbformat": 4,
 "nbformat_minor": 4
}
